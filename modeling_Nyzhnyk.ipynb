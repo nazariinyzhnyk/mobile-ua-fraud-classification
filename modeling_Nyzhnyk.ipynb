{
 "cells": [
  {
   "cell_type": "code",
   "execution_count": 92,
   "metadata": {},
   "outputs": [],
   "source": [
    "import numpy as np\n",
    "import pandas as pd\n",
    "import catboost as ctb\n",
    "import lightgbm as lgb\n",
    "import pickle\n",
    "import xgboost as xgb\n",
    "from sklearn.preprocessing import LabelEncoder\n",
    "from sklearn.metrics import accuracy_score, precision_score, recall_score\n",
    "from sklearn.model_selection import train_test_split\n",
    "import matplotlib.pyplot as plt\n",
    "import seaborn as sns\n",
    "%matplotlib inline"
   ]
  },
  {
   "cell_type": "code",
   "execution_count": 52,
   "metadata": {},
   "outputs": [
    {
     "data": {
      "text/html": [
       "<div>\n",
       "<style>\n",
       "    .dataframe thead tr:only-child th {\n",
       "        text-align: right;\n",
       "    }\n",
       "\n",
       "    .dataframe thead th {\n",
       "        text-align: left;\n",
       "    }\n",
       "\n",
       "    .dataframe tbody tr th {\n",
       "        vertical-align: top;\n",
       "    }\n",
       "</style>\n",
       "<table border=\"1\" class=\"dataframe\">\n",
       "  <thead>\n",
       "    <tr style=\"text-align: right;\">\n",
       "      <th></th>\n",
       "      <th>site_id</th>\n",
       "      <th>appsflyer_id</th>\n",
       "      <th>publisher</th>\n",
       "      <th>sub_site_id</th>\n",
       "      <th>date</th>\n",
       "      <th>app_id</th>\n",
       "      <th>app_version</th>\n",
       "      <th>attributed_touch_time</th>\n",
       "      <th>attributed_touch_type</th>\n",
       "      <th>operator</th>\n",
       "      <th>...</th>\n",
       "      <th>contributor_1_touch_time</th>\n",
       "      <th>contributor_2_publisher</th>\n",
       "      <th>contributor_2_touch_time</th>\n",
       "      <th>contributor_3_publisher</th>\n",
       "      <th>contributor_3_touch_time</th>\n",
       "      <th>install_time</th>\n",
       "      <th>language</th>\n",
       "      <th>os_version</th>\n",
       "      <th>sdk_version</th>\n",
       "      <th>wifi</th>\n",
       "    </tr>\n",
       "  </thead>\n",
       "  <tbody>\n",
       "    <tr>\n",
       "      <th>0</th>\n",
       "      <td>0</td>\n",
       "      <td>148552020</td>\n",
       "      <td>AA</td>\n",
       "      <td>0</td>\n",
       "      <td>2017-10-17</td>\n",
       "      <td>id966165025</td>\n",
       "      <td>3006005000</td>\n",
       "      <td>2017-10-17 21:20:31</td>\n",
       "      <td>click</td>\n",
       "      <td>NaN</td>\n",
       "      <td>...</td>\n",
       "      <td>2017-10-17 16:57:04</td>\n",
       "      <td>AA</td>\n",
       "      <td>0000-00-00 00:00:00</td>\n",
       "      <td>AA</td>\n",
       "      <td>0000-00-00 00:00:00</td>\n",
       "      <td>2017-10-17 21:23:30</td>\n",
       "      <td>en-GB</td>\n",
       "      <td>10.3.3</td>\n",
       "      <td>v4.8.0</td>\n",
       "      <td>0</td>\n",
       "    </tr>\n",
       "    <tr>\n",
       "      <th>1</th>\n",
       "      <td>2588</td>\n",
       "      <td>6912501</td>\n",
       "      <td>AA</td>\n",
       "      <td>1133</td>\n",
       "      <td>2017-10-08</td>\n",
       "      <td>ng.jiji.app</td>\n",
       "      <td>3004002000</td>\n",
       "      <td>2017-10-08 17:46:52</td>\n",
       "      <td>click</td>\n",
       "      <td>MTN NG</td>\n",
       "      <td>...</td>\n",
       "      <td>2017-10-08 17:46:50</td>\n",
       "      <td>AA</td>\n",
       "      <td>2017-10-08 17:34:34</td>\n",
       "      <td>AA</td>\n",
       "      <td>0000-00-00 00:00:00</td>\n",
       "      <td>2017-10-08 17:47:02</td>\n",
       "      <td>English</td>\n",
       "      <td>7.0</td>\n",
       "      <td>v4.8.3</td>\n",
       "      <td>0</td>\n",
       "    </tr>\n",
       "    <tr>\n",
       "      <th>2</th>\n",
       "      <td>2588</td>\n",
       "      <td>142889582</td>\n",
       "      <td>AA</td>\n",
       "      <td>1813</td>\n",
       "      <td>2017-10-06</td>\n",
       "      <td>ng.jiji.app</td>\n",
       "      <td>3004002000</td>\n",
       "      <td>2017-10-06 11:00:39</td>\n",
       "      <td>click</td>\n",
       "      <td>MTN - NG</td>\n",
       "      <td>...</td>\n",
       "      <td>2017-10-06 10:58:32</td>\n",
       "      <td>AA</td>\n",
       "      <td>2017-10-01 17:24:03</td>\n",
       "      <td>AA</td>\n",
       "      <td>0000-00-00 00:00:00</td>\n",
       "      <td>2017-10-06 11:00:57</td>\n",
       "      <td>English</td>\n",
       "      <td>5.1</td>\n",
       "      <td>v4.8.3</td>\n",
       "      <td>0</td>\n",
       "    </tr>\n",
       "    <tr>\n",
       "      <th>3</th>\n",
       "      <td>2588</td>\n",
       "      <td>491337173</td>\n",
       "      <td>AA</td>\n",
       "      <td>1813</td>\n",
       "      <td>2017-10-06</td>\n",
       "      <td>ng.jiji.app</td>\n",
       "      <td>3004002000</td>\n",
       "      <td>2017-10-06 13:38:31</td>\n",
       "      <td>click</td>\n",
       "      <td>Airtel</td>\n",
       "      <td>...</td>\n",
       "      <td>2017-10-06 13:38:15</td>\n",
       "      <td>AA</td>\n",
       "      <td>0000-00-00 00:00:00</td>\n",
       "      <td>AA</td>\n",
       "      <td>0000-00-00 00:00:00</td>\n",
       "      <td>2017-10-06 13:38:55</td>\n",
       "      <td>français</td>\n",
       "      <td>4.4.2</td>\n",
       "      <td>v4.8.3</td>\n",
       "      <td>0</td>\n",
       "    </tr>\n",
       "    <tr>\n",
       "      <th>4</th>\n",
       "      <td>2588</td>\n",
       "      <td>156920862</td>\n",
       "      <td>AA</td>\n",
       "      <td>1813</td>\n",
       "      <td>2017-10-06</td>\n",
       "      <td>ng.jiji.app</td>\n",
       "      <td>3004002000</td>\n",
       "      <td>2017-10-06 13:59:55</td>\n",
       "      <td>click</td>\n",
       "      <td>MTN NG</td>\n",
       "      <td>...</td>\n",
       "      <td>2017-09-30 20:17:37</td>\n",
       "      <td>AA</td>\n",
       "      <td>0000-00-00 00:00:00</td>\n",
       "      <td>AA</td>\n",
       "      <td>0000-00-00 00:00:00</td>\n",
       "      <td>2017-10-06 14:29:37</td>\n",
       "      <td>English</td>\n",
       "      <td>6.0</td>\n",
       "      <td>v4.8.3</td>\n",
       "      <td>0</td>\n",
       "    </tr>\n",
       "  </tbody>\n",
       "</table>\n",
       "<p>5 rows × 24 columns</p>\n",
       "</div>"
      ],
      "text/plain": [
       "   site_id  appsflyer_id publisher  sub_site_id        date       app_id  \\\n",
       "0        0     148552020        AA            0  2017-10-17  id966165025   \n",
       "1     2588       6912501        AA         1133  2017-10-08  ng.jiji.app   \n",
       "2     2588     142889582        AA         1813  2017-10-06  ng.jiji.app   \n",
       "3     2588     491337173        AA         1813  2017-10-06  ng.jiji.app   \n",
       "4     2588     156920862        AA         1813  2017-10-06  ng.jiji.app   \n",
       "\n",
       "   app_version attributed_touch_time attributed_touch_type  operator ...   \\\n",
       "0   3006005000   2017-10-17 21:20:31                 click       NaN ...    \n",
       "1   3004002000   2017-10-08 17:46:52                 click    MTN NG ...    \n",
       "2   3004002000   2017-10-06 11:00:39                 click  MTN - NG ...    \n",
       "3   3004002000   2017-10-06 13:38:31                 click    Airtel ...    \n",
       "4   3004002000   2017-10-06 13:59:55                 click    MTN NG ...    \n",
       "\n",
       "  contributor_1_touch_time contributor_2_publisher contributor_2_touch_time  \\\n",
       "0      2017-10-17 16:57:04                      AA      0000-00-00 00:00:00   \n",
       "1      2017-10-08 17:46:50                      AA      2017-10-08 17:34:34   \n",
       "2      2017-10-06 10:58:32                      AA      2017-10-01 17:24:03   \n",
       "3      2017-10-06 13:38:15                      AA      0000-00-00 00:00:00   \n",
       "4      2017-09-30 20:17:37                      AA      0000-00-00 00:00:00   \n",
       "\n",
       "  contributor_3_publisher contributor_3_touch_time         install_time  \\\n",
       "0                      AA      0000-00-00 00:00:00  2017-10-17 21:23:30   \n",
       "1                      AA      0000-00-00 00:00:00  2017-10-08 17:47:02   \n",
       "2                      AA      0000-00-00 00:00:00  2017-10-06 11:00:57   \n",
       "3                      AA      0000-00-00 00:00:00  2017-10-06 13:38:55   \n",
       "4                      AA      0000-00-00 00:00:00  2017-10-06 14:29:37   \n",
       "\n",
       "   language os_version sdk_version wifi  \n",
       "0     en-GB     10.3.3      v4.8.0    0  \n",
       "1   English        7.0      v4.8.3    0  \n",
       "2   English        5.1      v4.8.3    0  \n",
       "3  français      4.4.2      v4.8.3    0  \n",
       "4   English        6.0      v4.8.3    0  \n",
       "\n",
       "[5 rows x 24 columns]"
      ]
     },
     "execution_count": 52,
     "metadata": {},
     "output_type": "execute_result"
    }
   ],
   "source": [
    "data = pd.read_csv('data_set .csv')\n",
    "data.head()"
   ]
  },
  {
   "cell_type": "code",
   "execution_count": 53,
   "metadata": {},
   "outputs": [
    {
     "data": {
      "text/html": [
       "<div>\n",
       "<style>\n",
       "    .dataframe thead tr:only-child th {\n",
       "        text-align: right;\n",
       "    }\n",
       "\n",
       "    .dataframe thead th {\n",
       "        text-align: left;\n",
       "    }\n",
       "\n",
       "    .dataframe tbody tr th {\n",
       "        vertical-align: top;\n",
       "    }\n",
       "</style>\n",
       "<table border=\"1\" class=\"dataframe\">\n",
       "  <thead>\n",
       "    <tr style=\"text-align: right;\">\n",
       "      <th></th>\n",
       "      <th>Appsflyer_id</th>\n",
       "      <th>App_id</th>\n",
       "      <th>Publisher (media_source)</th>\n",
       "      <th>Site_id</th>\n",
       "      <th>Fraud_reasons</th>\n",
       "    </tr>\n",
       "  </thead>\n",
       "  <tbody>\n",
       "    <tr>\n",
       "      <th>0</th>\n",
       "      <td>740548623</td>\n",
       "      <td>ng.jiji.app</td>\n",
       "      <td>BR</td>\n",
       "      <td>4601</td>\n",
       "      <td>bots</td>\n",
       "    </tr>\n",
       "    <tr>\n",
       "      <th>1</th>\n",
       "      <td>151985749</td>\n",
       "      <td>ng.jiji.app</td>\n",
       "      <td>BN</td>\n",
       "      <td>1545</td>\n",
       "      <td>click_spamming</td>\n",
       "    </tr>\n",
       "    <tr>\n",
       "      <th>2</th>\n",
       "      <td>70156806</td>\n",
       "      <td>ng.jiji.app</td>\n",
       "      <td>BR</td>\n",
       "      <td>4601</td>\n",
       "      <td>bots</td>\n",
       "    </tr>\n",
       "    <tr>\n",
       "      <th>3</th>\n",
       "      <td>270410139</td>\n",
       "      <td>ng.jiji.app</td>\n",
       "      <td>BR</td>\n",
       "      <td>4601</td>\n",
       "      <td>bots</td>\n",
       "    </tr>\n",
       "    <tr>\n",
       "      <th>4</th>\n",
       "      <td>123443599</td>\n",
       "      <td>ng.jiji.app</td>\n",
       "      <td>BN</td>\n",
       "      <td>1838</td>\n",
       "      <td>tti_fraud</td>\n",
       "    </tr>\n",
       "  </tbody>\n",
       "</table>\n",
       "</div>"
      ],
      "text/plain": [
       "   Appsflyer_id       App_id Publisher (media_source)  Site_id   Fraud_reasons\n",
       "0     740548623  ng.jiji.app                       BR     4601            bots\n",
       "1     151985749  ng.jiji.app                       BN     1545  click_spamming\n",
       "2      70156806  ng.jiji.app                       BR     4601            bots\n",
       "3     270410139  ng.jiji.app                       BR     4601            bots\n",
       "4     123443599  ng.jiji.app                       BN     1838       tti_fraud"
      ]
     },
     "execution_count": 53,
     "metadata": {},
     "output_type": "execute_result"
    }
   ],
   "source": [
    "labels = pd.read_csv('labels.csv', sep=';')\n",
    "labels.head()"
   ]
  },
  {
   "cell_type": "code",
   "execution_count": 54,
   "metadata": {},
   "outputs": [
    {
     "data": {
      "text/html": [
       "<div>\n",
       "<style>\n",
       "    .dataframe thead tr:only-child th {\n",
       "        text-align: right;\n",
       "    }\n",
       "\n",
       "    .dataframe thead th {\n",
       "        text-align: left;\n",
       "    }\n",
       "\n",
       "    .dataframe tbody tr th {\n",
       "        vertical-align: top;\n",
       "    }\n",
       "</style>\n",
       "<table border=\"1\" class=\"dataframe\">\n",
       "  <thead>\n",
       "    <tr style=\"text-align: right;\">\n",
       "      <th></th>\n",
       "      <th>site_id</th>\n",
       "      <th>appsflyer_id</th>\n",
       "      <th>publisher</th>\n",
       "      <th>sub_site_id</th>\n",
       "      <th>date</th>\n",
       "      <th>app_id</th>\n",
       "      <th>app_version</th>\n",
       "      <th>attributed_touch_time</th>\n",
       "      <th>attributed_touch_type</th>\n",
       "      <th>operator</th>\n",
       "      <th>...</th>\n",
       "      <th>install_time</th>\n",
       "      <th>language</th>\n",
       "      <th>os_version</th>\n",
       "      <th>sdk_version</th>\n",
       "      <th>wifi</th>\n",
       "      <th>Appsflyer_id</th>\n",
       "      <th>App_id</th>\n",
       "      <th>Publisher (media_source)</th>\n",
       "      <th>Site_id</th>\n",
       "      <th>Fraud_reasons</th>\n",
       "    </tr>\n",
       "  </thead>\n",
       "  <tbody>\n",
       "    <tr>\n",
       "      <th>0</th>\n",
       "      <td>0</td>\n",
       "      <td>148552020</td>\n",
       "      <td>AA</td>\n",
       "      <td>0</td>\n",
       "      <td>2017-10-17</td>\n",
       "      <td>id966165025</td>\n",
       "      <td>3006005000</td>\n",
       "      <td>2017-10-17 21:20:31</td>\n",
       "      <td>click</td>\n",
       "      <td>NaN</td>\n",
       "      <td>...</td>\n",
       "      <td>2017-10-17 21:23:30</td>\n",
       "      <td>en-GB</td>\n",
       "      <td>10.3.3</td>\n",
       "      <td>v4.8.0</td>\n",
       "      <td>0</td>\n",
       "      <td>NaN</td>\n",
       "      <td>NaN</td>\n",
       "      <td>NaN</td>\n",
       "      <td>NaN</td>\n",
       "      <td>NaN</td>\n",
       "    </tr>\n",
       "    <tr>\n",
       "      <th>1</th>\n",
       "      <td>2588</td>\n",
       "      <td>6912501</td>\n",
       "      <td>AA</td>\n",
       "      <td>1133</td>\n",
       "      <td>2017-10-08</td>\n",
       "      <td>ng.jiji.app</td>\n",
       "      <td>3004002000</td>\n",
       "      <td>2017-10-08 17:46:52</td>\n",
       "      <td>click</td>\n",
       "      <td>MTN NG</td>\n",
       "      <td>...</td>\n",
       "      <td>2017-10-08 17:47:02</td>\n",
       "      <td>English</td>\n",
       "      <td>7.0</td>\n",
       "      <td>v4.8.3</td>\n",
       "      <td>0</td>\n",
       "      <td>NaN</td>\n",
       "      <td>NaN</td>\n",
       "      <td>NaN</td>\n",
       "      <td>NaN</td>\n",
       "      <td>NaN</td>\n",
       "    </tr>\n",
       "    <tr>\n",
       "      <th>2</th>\n",
       "      <td>2588</td>\n",
       "      <td>142889582</td>\n",
       "      <td>AA</td>\n",
       "      <td>1813</td>\n",
       "      <td>2017-10-06</td>\n",
       "      <td>ng.jiji.app</td>\n",
       "      <td>3004002000</td>\n",
       "      <td>2017-10-06 11:00:39</td>\n",
       "      <td>click</td>\n",
       "      <td>MTN - NG</td>\n",
       "      <td>...</td>\n",
       "      <td>2017-10-06 11:00:57</td>\n",
       "      <td>English</td>\n",
       "      <td>5.1</td>\n",
       "      <td>v4.8.3</td>\n",
       "      <td>0</td>\n",
       "      <td>NaN</td>\n",
       "      <td>NaN</td>\n",
       "      <td>NaN</td>\n",
       "      <td>NaN</td>\n",
       "      <td>NaN</td>\n",
       "    </tr>\n",
       "    <tr>\n",
       "      <th>3</th>\n",
       "      <td>2588</td>\n",
       "      <td>491337173</td>\n",
       "      <td>AA</td>\n",
       "      <td>1813</td>\n",
       "      <td>2017-10-06</td>\n",
       "      <td>ng.jiji.app</td>\n",
       "      <td>3004002000</td>\n",
       "      <td>2017-10-06 13:38:31</td>\n",
       "      <td>click</td>\n",
       "      <td>Airtel</td>\n",
       "      <td>...</td>\n",
       "      <td>2017-10-06 13:38:55</td>\n",
       "      <td>français</td>\n",
       "      <td>4.4.2</td>\n",
       "      <td>v4.8.3</td>\n",
       "      <td>0</td>\n",
       "      <td>NaN</td>\n",
       "      <td>NaN</td>\n",
       "      <td>NaN</td>\n",
       "      <td>NaN</td>\n",
       "      <td>NaN</td>\n",
       "    </tr>\n",
       "    <tr>\n",
       "      <th>4</th>\n",
       "      <td>2588</td>\n",
       "      <td>156920862</td>\n",
       "      <td>AA</td>\n",
       "      <td>1813</td>\n",
       "      <td>2017-10-06</td>\n",
       "      <td>ng.jiji.app</td>\n",
       "      <td>3004002000</td>\n",
       "      <td>2017-10-06 13:59:55</td>\n",
       "      <td>click</td>\n",
       "      <td>MTN NG</td>\n",
       "      <td>...</td>\n",
       "      <td>2017-10-06 14:29:37</td>\n",
       "      <td>English</td>\n",
       "      <td>6.0</td>\n",
       "      <td>v4.8.3</td>\n",
       "      <td>0</td>\n",
       "      <td>NaN</td>\n",
       "      <td>NaN</td>\n",
       "      <td>NaN</td>\n",
       "      <td>NaN</td>\n",
       "      <td>NaN</td>\n",
       "    </tr>\n",
       "  </tbody>\n",
       "</table>\n",
       "<p>5 rows × 29 columns</p>\n",
       "</div>"
      ],
      "text/plain": [
       "   site_id  appsflyer_id publisher  sub_site_id        date       app_id  \\\n",
       "0        0     148552020        AA            0  2017-10-17  id966165025   \n",
       "1     2588       6912501        AA         1133  2017-10-08  ng.jiji.app   \n",
       "2     2588     142889582        AA         1813  2017-10-06  ng.jiji.app   \n",
       "3     2588     491337173        AA         1813  2017-10-06  ng.jiji.app   \n",
       "4     2588     156920862        AA         1813  2017-10-06  ng.jiji.app   \n",
       "\n",
       "   app_version attributed_touch_time attributed_touch_type  operator  \\\n",
       "0   3006005000   2017-10-17 21:20:31                 click       NaN   \n",
       "1   3004002000   2017-10-08 17:46:52                 click    MTN NG   \n",
       "2   3004002000   2017-10-06 11:00:39                 click  MTN - NG   \n",
       "3   3004002000   2017-10-06 13:38:31                 click    Airtel   \n",
       "4   3004002000   2017-10-06 13:59:55                 click    MTN NG   \n",
       "\n",
       "       ...              install_time  language os_version sdk_version wifi  \\\n",
       "0      ...       2017-10-17 21:23:30     en-GB     10.3.3      v4.8.0    0   \n",
       "1      ...       2017-10-08 17:47:02   English        7.0      v4.8.3    0   \n",
       "2      ...       2017-10-06 11:00:57   English        5.1      v4.8.3    0   \n",
       "3      ...       2017-10-06 13:38:55  français      4.4.2      v4.8.3    0   \n",
       "4      ...       2017-10-06 14:29:37   English        6.0      v4.8.3    0   \n",
       "\n",
       "  Appsflyer_id App_id Publisher (media_source) Site_id Fraud_reasons  \n",
       "0          NaN    NaN                      NaN     NaN           NaN  \n",
       "1          NaN    NaN                      NaN     NaN           NaN  \n",
       "2          NaN    NaN                      NaN     NaN           NaN  \n",
       "3          NaN    NaN                      NaN     NaN           NaN  \n",
       "4          NaN    NaN                      NaN     NaN           NaN  \n",
       "\n",
       "[5 rows x 29 columns]"
      ]
     },
     "execution_count": 54,
     "metadata": {},
     "output_type": "execute_result"
    }
   ],
   "source": [
    "data = data.merge(labels, how='left', left_on='appsflyer_id', right_on='Appsflyer_id')\n",
    "data.head()"
   ]
  },
  {
   "cell_type": "code",
   "execution_count": 55,
   "metadata": {
    "collapsed": true
   },
   "outputs": [],
   "source": [
    "data_train, data_valid = train_test_split(data, test_size=0.2, random_state=42)"
   ]
  },
  {
   "cell_type": "code",
   "execution_count": 56,
   "metadata": {},
   "outputs": [
    {
     "data": {
      "text/plain": [
       "(369200, 29)"
      ]
     },
     "execution_count": 56,
     "metadata": {},
     "output_type": "execute_result"
    }
   ],
   "source": [
    "data_train.shape"
   ]
  },
  {
   "cell_type": "code",
   "execution_count": 57,
   "metadata": {},
   "outputs": [
    {
     "data": {
      "text/plain": [
       "(92300, 29)"
      ]
     },
     "execution_count": 57,
     "metadata": {},
     "output_type": "execute_result"
    }
   ],
   "source": [
    "data_valid.shape"
   ]
  },
  {
   "cell_type": "code",
   "execution_count": 58,
   "metadata": {
    "collapsed": true
   },
   "outputs": [],
   "source": [
    "def print_metrics(model, x_valid, y_valid, le):\n",
    "    y_pred = model.predict(x_valid)\n",
    "\n",
    "    accuracy = accuracy_score(y_valid, y_pred)\n",
    "    precisions = precision_score(le.inverse_transform(y_valid), le.inverse_transform(y_pred), average=None,\n",
    "                                 labels=le.classes_)\n",
    "    recalls = recall_score(le.inverse_transform(y_valid), le.inverse_transform(y_pred), average=None,\n",
    "                           labels=le.classes_)\n",
    "    print(f'Overall accuracy: {100 * accuracy:.2f}%')\n",
    "    for i in range(len(le.classes_)):\n",
    "        print(f'Fraud reason: {le.classes_[i]}, Precision: {(100 * precisions[i]):.2f}%, Recall: {(100 * recalls[i]):.2f}%')"
   ]
  },
  {
   "cell_type": "code",
   "execution_count": 59,
   "metadata": {
    "collapsed": true
   },
   "outputs": [],
   "source": [
    "def get_cat_columns(df):\n",
    "    cat_columns_index = np.where(df.dtypes != float)[0]\n",
    "    cat_columns = df.columns[cat_columns_index].values\n",
    "    return cat_columns_index, cat_columns"
   ]
  },
  {
   "cell_type": "code",
   "execution_count": 60,
   "metadata": {
    "collapsed": true
   },
   "outputs": [],
   "source": [
    "def encode_cat_features(x_train, x_valid):\n",
    "    _, cat_columns = get_cat_columns(x_train)\n",
    "    le_dict = {col: LabelEncoder() for col in cat_columns}\n",
    "    for col in cat_columns:\n",
    "        x_train[col] = le_dict[col].fit_transform(x_train[col].astype('str'))\n",
    "        x_valid[col] = le_dict[col].fit_transform(x_valid[col].astype('str'))\n",
    "    return x_train, x_valid"
   ]
  },
  {
   "cell_type": "code",
   "execution_count": 61,
   "metadata": {
    "collapsed": true
   },
   "outputs": [],
   "source": [
    "def train_catboost(x_train, y_train, x_valid, y_valid, le):\n",
    "    cat_columns_index, _ = get_cat_columns(x_train)\n",
    "    catboost_model = ctb.CatBoostClassifier(loss_function='MultiClass', eval_metric='Accuracy', use_best_model=True, random_seed=42)\n",
    "    catboost_model.fit(x_train, y_train, cat_features=cat_columns_index, eval_set=(x_valid, y_valid))\n",
    "    pickle.dump(catboost_model, open(\"catboost.model\", \"wb\"))\n",
    "    print_metrics(catboost_model, x_valid, y_valid, le)"
   ]
  },
  {
   "cell_type": "code",
   "execution_count": 62,
   "metadata": {
    "collapsed": true
   },
   "outputs": [],
   "source": [
    "def train_lgb(x_train, y_train, x_valid, y_valid, le):\n",
    "    x_train, x_valid = encode_cat_features(x_train, x_valid)\n",
    "    lgb_model = lgb.LGBMClassifier(objective='multiclass', learning_rate=0.02, n_estimators=400, num_iterations=1000,\n",
    "                               num_leaves=100, max_depth=7)\n",
    "    lgb_model.fit(x_train, y_train, eval_set=[(x_valid, y_valid)], early_stopping_rounds=10)\n",
    "    pickle.dump(lgb_model, open('lgb.model', 'wb'))\n",
    "    lgb_model = pickle.load(open('lgb.model', 'rb'))\n",
    "    print_metrics(lgb_model, x_valid, y_valid, le)\n",
    "\n",
    "    fig, ax = plt.subplots(figsize=(12, 18))\n",
    "    lgb.plot_importance(lgb_model, max_num_features=30, height=0.5, ax=ax)\n",
    "    plt.savefig('feature_importance_lgb.png', bbox_inches='tight')"
   ]
  },
  {
   "cell_type": "code",
   "execution_count": 63,
   "metadata": {},
   "outputs": [
    {
     "name": "stderr",
     "output_type": "stream",
     "text": [
      "/anaconda3/lib/python3.6/site-packages/ipykernel_launcher.py:2: SettingWithCopyWarning: \n",
      "A value is trying to be set on a copy of a slice from a DataFrame\n",
      "\n",
      "See the caveats in the documentation: http://pandas.pydata.org/pandas-docs/stable/indexing.html#indexing-view-versus-copy\n",
      "  \n",
      "/anaconda3/lib/python3.6/site-packages/pandas/core/indexing.py:517: SettingWithCopyWarning: \n",
      "A value is trying to be set on a copy of a slice from a DataFrame.\n",
      "Try using .loc[row_indexer,col_indexer] = value instead\n",
      "\n",
      "See the caveats in the documentation: http://pandas.pydata.org/pandas-docs/stable/indexing.html#indexing-view-versus-copy\n",
      "  self.obj[item] = s\n"
     ]
    }
   ],
   "source": [
    "data.drop(data[data['Fraud_reasons'] == 'mix'].index, inplace=True)\n",
    "data_valid.drop(data_valid[data_valid['Fraud_reasons'] == 'mix'].index, inplace=True)\n",
    "data.loc[data['Fraud_reasons'].isnull(), 'Fraud_reasons'] = 'ok'\n",
    "data_valid.loc[data_valid['Fraud_reasons'].isnull(), 'Fraud_reasons'] = 'ok'\n",
    "fraud_reasons = data['Fraud_reasons'].unique()"
   ]
  },
  {
   "cell_type": "code",
   "execution_count": 64,
   "metadata": {},
   "outputs": [
    {
     "data": {
      "text/plain": [
       "array(['ok', 'Data center', 'click_spamming', 'bots', 'tti_fraud'], dtype=object)"
      ]
     },
     "execution_count": 64,
     "metadata": {},
     "output_type": "execute_result"
    }
   ],
   "source": [
    "fraud_reasons"
   ]
  },
  {
   "cell_type": "code",
   "execution_count": 65,
   "metadata": {},
   "outputs": [
    {
     "name": "stderr",
     "output_type": "stream",
     "text": [
      "/anaconda3/lib/python3.6/site-packages/ipykernel_launcher.py:2: SettingWithCopyWarning: \n",
      "A value is trying to be set on a copy of a slice from a DataFrame.\n",
      "Try using .loc[row_indexer,col_indexer] = value instead\n",
      "\n",
      "See the caveats in the documentation: http://pandas.pydata.org/pandas-docs/stable/indexing.html#indexing-view-versus-copy\n",
      "  \n",
      "/anaconda3/lib/python3.6/site-packages/ipykernel_launcher.py:4: SettingWithCopyWarning: \n",
      "A value is trying to be set on a copy of a slice from a DataFrame.\n",
      "Try using .loc[row_indexer,col_indexer] = value instead\n",
      "\n",
      "See the caveats in the documentation: http://pandas.pydata.org/pandas-docs/stable/indexing.html#indexing-view-versus-copy\n",
      "  after removing the cwd from sys.path.\n",
      "/anaconda3/lib/python3.6/site-packages/ipykernel_launcher.py:8: SettingWithCopyWarning: \n",
      "A value is trying to be set on a copy of a slice from a DataFrame.\n",
      "Try using .loc[row_indexer,col_indexer] = value instead\n",
      "\n",
      "See the caveats in the documentation: http://pandas.pydata.org/pandas-docs/stable/indexing.html#indexing-view-versus-copy\n",
      "  \n",
      "/anaconda3/lib/python3.6/site-packages/ipykernel_launcher.py:9: SettingWithCopyWarning: \n",
      "A value is trying to be set on a copy of a slice from a DataFrame.\n",
      "Try using .loc[row_indexer,col_indexer] = value instead\n",
      "\n",
      "See the caveats in the documentation: http://pandas.pydata.org/pandas-docs/stable/indexing.html#indexing-view-versus-copy\n",
      "  if __name__ == '__main__':\n",
      "/anaconda3/lib/python3.6/site-packages/ipykernel_launcher.py:10: SettingWithCopyWarning: \n",
      "A value is trying to be set on a copy of a slice from a DataFrame.\n",
      "Try using .loc[row_indexer,col_indexer] = value instead\n",
      "\n",
      "See the caveats in the documentation: http://pandas.pydata.org/pandas-docs/stable/indexing.html#indexing-view-versus-copy\n",
      "  # Remove the CWD from sys.path while we load stuff.\n"
     ]
    }
   ],
   "source": [
    "data['install_time'] = pd.to_datetime(data['install_time'])\n",
    "data_valid['install_time'] = pd.to_datetime(data_valid['install_time'])\n",
    "data['attributed_touch_time'] = pd.to_datetime(data['attributed_touch_time'])\n",
    "data_valid['attributed_touch_time'] = pd.to_datetime(data_valid['attributed_touch_time'])\n",
    "data['contributor_1_touch_time'] = pd.to_datetime(data['contributor_1_touch_time'], errors='coerce')\n",
    "data['contributor_2_touch_time'] = pd.to_datetime(data['contributor_2_touch_time'], errors='coerce')\n",
    "data['contributor_3_touch_time'] = pd.to_datetime(data['contributor_3_touch_time'], errors='coerce')\n",
    "data_valid['contributor_1_touch_time'] = pd.to_datetime(data_valid['contributor_1_touch_time'], errors='coerce')\n",
    "data_valid['contributor_2_touch_time'] = pd.to_datetime(data_valid['contributor_2_touch_time'], errors='coerce')\n",
    "data_valid['contributor_3_touch_time'] = pd.to_datetime(data_valid['contributor_3_touch_time'], errors='coerce')"
   ]
  },
  {
   "cell_type": "code",
   "execution_count": 66,
   "metadata": {},
   "outputs": [
    {
     "data": {
      "text/plain": [
       "Index(['site_id', 'appsflyer_id', 'publisher', 'sub_site_id', 'date', 'app_id',\n",
       "       'app_version', 'attributed_touch_time', 'attributed_touch_type',\n",
       "       'operator', 'city', 'country_code', 'device_type',\n",
       "       'contributor_1_publisher', 'contributor_1_touch_time',\n",
       "       'contributor_2_publisher', 'contributor_2_touch_time',\n",
       "       'contributor_3_publisher', 'contributor_3_touch_time', 'install_time',\n",
       "       'language', 'os_version', 'sdk_version', 'wifi', 'Appsflyer_id',\n",
       "       'App_id', 'Publisher (media_source)', 'Site_id', 'Fraud_reasons'],\n",
       "      dtype='object')"
      ]
     },
     "execution_count": 66,
     "metadata": {},
     "output_type": "execute_result"
    }
   ],
   "source": [
    "data.columns"
   ]
  },
  {
   "cell_type": "code",
   "execution_count": 67,
   "metadata": {
    "collapsed": true
   },
   "outputs": [],
   "source": [
    "android_versions = pd.read_csv('android_versions.csv', delimiter=',')\n",
    "android_versions['release_date'] = pd.to_datetime(android_versions['release_date'])\n",
    "android_versions['version'] = android_versions['version'].apply(lambda x: int(x.replace('.', '00')))\n",
    "data = data.merge(android_versions, how='left', left_on='app_version', right_on='version')\n",
    "data_valid = data_valid.merge(android_versions, how='left', left_on='app_version', right_on='version')\n",
    "\n",
    "ios_app_id = 'id966165025'\n",
    "android_app_id = 'ng.jiji.app'\n",
    "data.loc[data['app_id'] == ios_app_id, 'release_date'] = np.datetime64('NaT')\n",
    "data_valid.loc[data_valid['app_id'] == ios_app_id, 'release_date'] = np.datetime64('NaT')"
   ]
  },
  {
   "cell_type": "code",
   "execution_count": 68,
   "metadata": {
    "collapsed": true
   },
   "outputs": [],
   "source": [
    "extracted_features_columns = np.array([])\n",
    "\n",
    "def estimate_gaussian(dataset):\n",
    "    mu = np.mean(dataset, axis=0)\n",
    "    sigma = np.cov(dataset.T)\n",
    "    return mu, sigma\n",
    "\n",
    "def multivariate_gaussian(dataset, mu, sigma):\n",
    "    p = multivariate_normal(mean=mu, cov=sigma)\n",
    "    return p.pdf(dataset)\n",
    "\n",
    "def estimate_gaussian_series(series):\n",
    "    mu = series[~series.isnull()].mean()\n",
    "    sigma = series[~series.isnull()].std()\n",
    "    return mu, sigma\n",
    "\n",
    "def univariate_gaussian(series, mu, sigma):\n",
    "    p = norm(loc=mu, scale=sigma)\n",
    "    return p.pdf(series)\n",
    "    #return norm.rvs(loc=0, scale=1, size=len(series))\n",
    "\n",
    "def set_time_features(data, data_valid):\n",
    "    data['install_time_sec'] = (data['install_time'] - pd.datetime.now()).dt.total_seconds()\n",
    "    data['release_date_sec'] = (data['release_date'] - pd.datetime.now()).dt.total_seconds()\n",
    "\n",
    "    data_valid['install_time_sec'] = (data_valid['install_time'] - pd.datetime.now()).dt.total_seconds()\n",
    "    data_valid['release_date_sec'] = (data_valid['release_date'] - pd.datetime.now()).dt.total_seconds()\n",
    "\n",
    "    data['tti'] = (data['install_time']\n",
    "                   - data['attributed_touch_time']).dt.total_seconds()\n",
    "    data_valid['tti'] = (pd.to_datetime(data_valid['install_time'])\n",
    "                         - data_valid['attributed_touch_time']).dt.total_seconds()\n",
    "\n",
    "    data['time_diff_contributor1'] = (data['attributed_touch_time']\n",
    "                                      - data['contributor_1_touch_time']).dt.total_seconds()\n",
    "    data['time_diff_contributor2'] = (data['contributor_1_touch_time']\n",
    "                                      - data['contributor_2_touch_time']).dt.total_seconds()\n",
    "    data['time_diff_contributor3'] = (data['contributor_2_touch_time']\n",
    "                                      - data['contributor_3_touch_time']).dt.total_seconds()\n",
    "\n",
    "    data_valid['time_diff_contributor1'] = (data_valid['attributed_touch_time']\n",
    "                                            - data_valid['contributor_1_touch_time']).dt.total_seconds()\n",
    "    data_valid['time_diff_contributor2'] = (data_valid['contributor_1_touch_time']\n",
    "                                            - data_valid['contributor_2_touch_time']).dt.total_seconds()\n",
    "    data_valid['time_diff_contributor3'] = (data_valid['contributor_2_touch_time']\n",
    "                                            - data_valid['contributor_3_touch_time']).dt.total_seconds()\n",
    "\n",
    "    extracted_features_columns = np.array(['tti', 'release_date_sec', 'install_time_sec',\n",
    "                                          'time_diff_contributor1', 'time_diff_contributor2', 'time_diff_contributor3'])\n",
    "\n",
    "    return data, data_valid, extracted_features_columns\n",
    "\n",
    "def set_fraud_rate_feature(train_df, valid_df, column, mean_fraud, fraud_reason):\n",
    "    rate_feature_column = column + '_' + fraud_reason + '_fraud_rate'\n",
    "    ratio = train_df[['Fraud_reasons', column]].groupby([column]).agg(\n",
    "        lambda x: (x['Fraud_reasons'] == fraud_reason).sum()/len(x))\n",
    "    ratio.rename(columns={'Fraud_reasons': rate_feature_column}, inplace=True)\n",
    "\n",
    "    train_df = pd.merge(train_df, ratio, how='left', left_on=column, right_index=True)\n",
    "    train_df[rate_feature_column] = train_df[rate_feature_column].fillna(mean_fraud)\n",
    "    # train_df[rate_feature_column] = train_df[rate_feature_column].fillna(0)\n",
    "\n",
    "    valid_df = pd.merge(valid_df, ratio, how='left', left_on=column, right_index=True)\n",
    "    valid_df[rate_feature_column] = valid_df[rate_feature_column].fillna(mean_fraud)\n",
    "    # valid_df[rate_feature_column] = valid_df[rate_feature_column].fillna(0)\n",
    "    return train_df, valid_df, rate_feature_column\n",
    "\n",
    "fraud_rates_columns = ['language', 'publisher', 'operator', 'device_type',\n",
    "                       'os_version', 'sdk_version', 'app_id', 'app_version', 'wifi']\n",
    "\n",
    "data, data_valid, time_features = set_time_features(data, data_valid)\n",
    "extracted_features_columns = np.concatenate((extracted_features_columns, time_features))\n",
    "\n",
    "def set_categorical_fetures(data, data_valid):\n",
    "    data['wifi'] = data['wifi'].astype(str)\n",
    "    data_valid['wifi'] = data_valid['wifi'].astype(str)\n",
    "    cat_features = np.array(['language', 'publisher', 'operator', 'device_type',\n",
    "                             'os_version', 'sdk_version', 'app_id', 'app_version', 'wifi'])\n",
    "\n",
    "    return data, data_valid, cat_features\n",
    "\n",
    "data, data_valid, cat_features = set_categorical_fetures(data, data_valid)\n",
    "extracted_features_columns = np.concatenate((extracted_features_columns, cat_features))\n",
    "\n",
    "\"\"\"\n",
    "def set_distribution_features(data, data_valid):\n",
    "    # trustworthy_publisher_marker = data['publisher'].isin(['AX', 'AG'])\n",
    "    trustworthy_publisher_marker = data['Fraud_reasons'] == 'ok'\n",
    "    distribution_features = np.array([])\n",
    "    features = ['tti', 'release_date_sec', 'install_time_sec',\n",
    "                'time_diff_contributor1', 'time_diff_contributor2', 'time_diff_contributor3']\n",
    "    fraud_reasons_without_ok = np.array([x for x in fraud_reasons if x != 'ok'])\n",
    "    for feature in features:\n",
    "        mu, sigma = estimate_gaussian_series(data.loc[trustworthy_publisher_marker, feature])\n",
    "        data[feature + '_p_ok'] = univariate_gaussian(data[feature], mu, sigma)\n",
    "        data_valid[feature + '_p_ok'] = univariate_gaussian(data_valid[feature], mu, sigma)\n",
    "        distribution_features = np.concatenate((distribution_features, np.array([feature + '_p_ok'])))\n",
    "        for fraud_reason in fraud_reasons_without_ok:\n",
    "            mu, sigma = estimate_gaussian_series(data.loc[data['Fraud_reasons'] == fraud_reason, feature])\n",
    "            data[feature + '_p_' + fraud_reason] = univariate_gaussian(data[feature], mu, sigma)\n",
    "            data_valid[feature + '_p_' + fraud_reason] = univariate_gaussian(data_valid[feature], mu, sigma)\n",
    "            distribution_features = np.concatenate((distribution_features, np.array([feature + '_p_' + fraud_reason])))\n",
    "    return data, data_valid, distribution_features\n",
    "data, data_valid, distribution_features = set_distribution_features(data, data_valid)\n",
    "extracted_features_columns = np.concatenate((extracted_features_columns, distribution_features))\n",
    "\"\"\"\n",
    "\n",
    "extracted_features_columns = np.concatenate((extracted_features_columns, np.array(['Fraud_reasons'])))\n",
    "extracted_features_train = data[extracted_features_columns]\n",
    "extracted_features_train.to_csv('extracted_features_train.csv', sep=';', index=False, encoding='utf-8')\n",
    "\n",
    "extracted_features_valid = data_valid[extracted_features_columns]\n",
    "extracted_features_valid.to_csv('extracted_features_valid.csv', sep=';', index=False, encoding='utf-8')"
   ]
  },
  {
   "cell_type": "code",
   "execution_count": 69,
   "metadata": {
    "collapsed": true
   },
   "outputs": [],
   "source": [
    "from sklearn.preprocessing import LabelEncoder\n",
    "\n",
    "data_train = pd.read_csv('extracted_features_train.csv', sep=';')\n",
    "data_valid = pd.read_csv('extracted_features_valid.csv', sep=';')\n",
    "\n",
    "\n",
    "data_train.drop(data_train[data_train['Fraud_reasons'] == 'mix'].index, inplace=True)\n",
    "data_valid.drop(data_valid[data_valid['Fraud_reasons'] == 'mix'].index, inplace=True)\n",
    "\n",
    "data_train.loc[data_train['Fraud_reasons'].isnull(), 'Fraud_reasons'] = 'ok'\n",
    "data_valid.loc[data_valid['Fraud_reasons'].isnull(), 'Fraud_reasons'] = 'ok'\n",
    "\n",
    "label_encoder = LabelEncoder()\n",
    "le = label_encoder.fit(data_train['Fraud_reasons'].values)\n",
    "y_train = le.transform(data_train['Fraud_reasons'].values)\n",
    "y_valid = le.transform(data_valid['Fraud_reasons'].values)\n",
    "x_train = data_train.loc[:, data_train.columns != 'Fraud_reasons']\n",
    "x_valid = data_valid.loc[:, data_valid.columns != 'Fraud_reasons']\n",
    "x_valid = x_valid[x_train.columns]\n",
    "\n",
    "#train_lgb(x_train, y_train, x_valid, y_valid, le)"
   ]
  },
  {
   "cell_type": "code",
   "execution_count": 70,
   "metadata": {
    "collapsed": true
   },
   "outputs": [],
   "source": [
    "x_train = x_train.fillna(0)\n",
    "x_valid = x_valid.fillna(0)"
   ]
  },
  {
   "cell_type": "code",
   "execution_count": 71,
   "metadata": {
    "collapsed": true,
    "scrolled": true
   },
   "outputs": [],
   "source": [
    "from sklearn import svm\n",
    "\n",
    "def train_svm(x_train, y_train, x_valid, y_valid, le):\n",
    "    x_train, x_valid = encode_cat_features(x_train, x_valid)\n",
    "    clf = svm.SVC(decision_function_shape='ovo')\n",
    "    clf.fit(x_train, y_train)\n",
    "    print_metrics(svm, x_valid, y_valid, le)\n",
    "\n",
    "def train_svm_lin(x_train, y_train, x_valid, y_valid, le):\n",
    "    x_train, x_valid = encode_cat_features(x_train, x_valid)\n",
    "    lin_clf = svm.LinearSVC()\n",
    "    lin_clf.fit(x_train, y_train)\n",
    "    print_metrics(lin_clf, x_valid, y_valid, le)"
   ]
  },
  {
   "cell_type": "code",
   "execution_count": 72,
   "metadata": {
    "collapsed": true
   },
   "outputs": [],
   "source": [
    "#train_svm(x_train, y_train, x_valid, y_valid, le)"
   ]
  },
  {
   "cell_type": "code",
   "execution_count": 73,
   "metadata": {
    "collapsed": true
   },
   "outputs": [],
   "source": [
    "#train_svm_lin(x_train, y_train, x_valid, y_valid, le)"
   ]
  },
  {
   "cell_type": "code",
   "execution_count": 74,
   "metadata": {
    "collapsed": true
   },
   "outputs": [],
   "source": [
    "from sklearn.neighbors import KNeighborsClassifier\n",
    "\n",
    "def train_knn(x_train, y_train, x_valid, y_valid, le):\n",
    "    x_train, x_valid = encode_cat_features(x_train, x_valid)\n",
    "    neigh = KNeighborsClassifier(n_neighbors=3)\n",
    "    neigh.fit(x_train, y_train)     \n",
    "    print_metrics(neigh, x_valid, y_valid, le)\n"
   ]
  },
  {
   "cell_type": "code",
   "execution_count": 75,
   "metadata": {},
   "outputs": [
    {
     "name": "stdout",
     "output_type": "stream",
     "text": [
      "Overall accuracy: 84.71%\n",
      "Fraud reason: Data center, Precision: 33.33%, Recall: 9.38%\n",
      "Fraud reason: bots, Precision: 69.24%, Recall: 56.96%\n",
      "Fraud reason: click_spamming, Precision: 61.10%, Recall: 30.72%\n",
      "Fraud reason: ok, Precision: 88.16%, Recall: 94.40%\n",
      "Fraud reason: tti_fraud, Precision: 44.61%, Recall: 25.92%\n"
     ]
    }
   ],
   "source": [
    "train_knn(x_train, y_train, x_valid, y_valid, le)"
   ]
  },
  {
   "cell_type": "code",
   "execution_count": 76,
   "metadata": {
    "collapsed": true
   },
   "outputs": [],
   "source": [
    "from sklearn.naive_bayes import BernoulliNB\n",
    "\n",
    "def train_bayes(x_train, y_train, x_valid, y_valid, le):\n",
    "    x_train, x_valid = encode_cat_features(x_train, x_valid)\n",
    "    clf = BernoulliNB()\n",
    "    clf.fit(x_train, y_train)     \n",
    "    print_metrics(clf, x_valid, y_valid, le)\n",
    "    "
   ]
  },
  {
   "cell_type": "code",
   "execution_count": 77,
   "metadata": {},
   "outputs": [
    {
     "name": "stderr",
     "output_type": "stream",
     "text": [
      "/anaconda3/lib/python3.6/site-packages/sklearn/metrics/classification.py:1135: UndefinedMetricWarning: Precision is ill-defined and being set to 0.0 in labels with no predicted samples.\n",
      "  'precision', 'predicted', average, warn_for)\n"
     ]
    },
    {
     "name": "stdout",
     "output_type": "stream",
     "text": [
      "Overall accuracy: 81.10%\n",
      "Fraud reason: Data center, Precision: 0.00%, Recall: 0.00%\n",
      "Fraud reason: bots, Precision: 47.28%, Recall: 62.99%\n",
      "Fraud reason: click_spamming, Precision: 0.00%, Recall: 0.00%\n",
      "Fraud reason: ok, Precision: 85.79%, Recall: 92.44%\n",
      "Fraud reason: tti_fraud, Precision: 0.00%, Recall: 0.00%\n"
     ]
    }
   ],
   "source": [
    "train_bayes(x_train, y_train, x_valid, y_valid, le)"
   ]
  },
  {
   "cell_type": "code",
   "execution_count": 78,
   "metadata": {
    "collapsed": true
   },
   "outputs": [],
   "source": [
    "from sklearn.ensemble import RandomForestClassifier\n",
    "\n",
    "def train_rfc(x_train, y_train, x_valid, y_valid, le):\n",
    "    x_train, x_valid = encode_cat_features(x_train, x_valid)\n",
    "    clf = RandomForestClassifier(max_depth=2, random_state=0)\n",
    "    clf.fit(x_train, y_train)     \n",
    "    print_metrics(clf, x_valid, y_valid, le)\n"
   ]
  },
  {
   "cell_type": "code",
   "execution_count": 79,
   "metadata": {},
   "outputs": [
    {
     "name": "stderr",
     "output_type": "stream",
     "text": [
      "/anaconda3/lib/python3.6/site-packages/sklearn/metrics/classification.py:1135: UndefinedMetricWarning: Precision is ill-defined and being set to 0.0 in labels with no predicted samples.\n",
      "  'precision', 'predicted', average, warn_for)\n"
     ]
    },
    {
     "name": "stdout",
     "output_type": "stream",
     "text": [
      "Overall accuracy: 81.51%\n",
      "Fraud reason: Data center, Precision: 0.00%, Recall: 0.00%\n",
      "Fraud reason: bots, Precision: 0.00%, Recall: 0.00%\n",
      "Fraud reason: click_spamming, Precision: 0.00%, Recall: 0.00%\n",
      "Fraud reason: ok, Precision: 81.51%, Recall: 100.00%\n",
      "Fraud reason: tti_fraud, Precision: 0.00%, Recall: 0.00%\n"
     ]
    }
   ],
   "source": [
    "train_rfc(x_train, y_train, x_valid, y_valid, le)"
   ]
  },
  {
   "cell_type": "code",
   "execution_count": 80,
   "metadata": {
    "collapsed": true
   },
   "outputs": [],
   "source": [
    "from sklearn.ensemble import GradientBoostingClassifier\n",
    "\n",
    "def train_gbc(x_train, y_train, x_valid, y_valid, le):\n",
    "    x_train, x_valid = encode_cat_features(x_train, x_valid)\n",
    "    clf = GradientBoostingClassifier()\n",
    "    clf.fit(x_train, y_train)     \n",
    "    print_metrics(clf, x_valid, y_valid, le)"
   ]
  },
  {
   "cell_type": "code",
   "execution_count": 81,
   "metadata": {},
   "outputs": [
    {
     "name": "stdout",
     "output_type": "stream",
     "text": [
      "Overall accuracy: 85.12%\n",
      "Fraud reason: Data center, Precision: 92.31%, Recall: 37.50%\n",
      "Fraud reason: bots, Precision: 81.43%, Recall: 31.26%\n",
      "Fraud reason: click_spamming, Precision: 0.00%, Recall: 0.00%\n",
      "Fraud reason: ok, Precision: 85.76%, Recall: 98.08%\n",
      "Fraud reason: tti_fraud, Precision: 71.15%, Recall: 35.71%\n"
     ]
    }
   ],
   "source": [
    "train_gbc(x_train, y_train, x_valid, y_valid, le)"
   ]
  },
  {
   "cell_type": "code",
   "execution_count": 82,
   "metadata": {},
   "outputs": [],
   "source": [
    "from sklearn.tree import DecisionTreeClassifier\n",
    "\n",
    "def train_dtc(x_train, y_train, x_valid, y_valid, le):\n",
    "    x_train, x_valid = encode_cat_features(x_train, x_valid)\n",
    "    clf = DecisionTreeClassifier(random_state=0)\n",
    "    clf.fit(x_train, y_train)     \n",
    "    print_metrics(clf, x_valid, y_valid, le)"
   ]
  },
  {
   "cell_type": "code",
   "execution_count": 83,
   "metadata": {},
   "outputs": [
    {
     "name": "stdout",
     "output_type": "stream",
     "text": [
      "Overall accuracy: 79.12%\n",
      "Fraud reason: Data center, Precision: 0.00%, Recall: 0.00%\n",
      "Fraud reason: bots, Precision: 13.14%, Recall: 3.61%\n",
      "Fraud reason: click_spamming, Precision: 4.68%, Recall: 4.78%\n",
      "Fraud reason: ok, Precision: 83.71%, Recall: 93.28%\n",
      "Fraud reason: tti_fraud, Precision: 70.10%, Recall: 40.44%\n"
     ]
    }
   ],
   "source": [
    "train_dtc(x_train, y_train, x_valid, y_valid, le)"
   ]
  },
  {
   "cell_type": "code",
   "execution_count": 86,
   "metadata": {
    "collapsed": true
   },
   "outputs": [],
   "source": [
    "from sklearn.linear_model import LogisticRegression\n",
    "\n",
    "def train_log(x_train, y_train, x_valid, y_valid, le):\n",
    "    x_train, x_valid = encode_cat_features(x_train, x_valid)\n",
    "    clf = LogisticRegression(multi_class='multinomial', solver='lbfgs')\n",
    "    clf.fit(x_train, y_train)     \n",
    "    print_metrics(clf, x_valid, y_valid, le)"
   ]
  },
  {
   "cell_type": "code",
   "execution_count": 87,
   "metadata": {},
   "outputs": [
    {
     "name": "stderr",
     "output_type": "stream",
     "text": [
      "/anaconda3/lib/python3.6/site-packages/sklearn/metrics/classification.py:1135: UndefinedMetricWarning: Precision is ill-defined and being set to 0.0 in labels with no predicted samples.\n",
      "  'precision', 'predicted', average, warn_for)\n"
     ]
    },
    {
     "name": "stdout",
     "output_type": "stream",
     "text": [
      "Overall accuracy: 81.39%\n",
      "Fraud reason: Data center, Precision: 0.00%, Recall: 0.00%\n",
      "Fraud reason: bots, Precision: 0.00%, Recall: 0.00%\n",
      "Fraud reason: click_spamming, Precision: 24.32%, Recall: 1.90%\n",
      "Fraud reason: ok, Precision: 81.52%, Recall: 99.79%\n",
      "Fraud reason: tti_fraud, Precision: 0.00%, Recall: 0.00%\n"
     ]
    }
   ],
   "source": [
    "train_log(x_train, y_train, x_valid, y_valid, le)"
   ]
  },
  {
   "cell_type": "code",
   "execution_count": 93,
   "metadata": {},
   "outputs": [
    {
     "data": {
      "text/plain": [
       "<matplotlib.axes._subplots.AxesSubplot at 0x1a1db76630>"
      ]
     },
     "execution_count": 93,
     "metadata": {},
     "output_type": "execute_result"
    },
    {
     "data": {
      "image/png": "[encoded data removed]",
      "text/plain": [
       "<matplotlib.figure.Figure at 0x1a479c14a8>"
      ]
     },
     "metadata": {},
     "output_type": "display_data"
    }
   ],
   "source": [
    "corr = x_train.corr()\n",
    "cmap = sns.diverging_palette(220, 10, as_cmap=True)\n",
    "sns.heatmap(corr, cmap=cmap, vmax=.3, center=0,\n",
    "            square=True, linewidths=.5, cbar_kws={\"shrink\": .5})"
   ]
  },
  {
   "cell_type": "code",
   "execution_count": null,
   "metadata": {
    "collapsed": true
   },
   "outputs": [],
   "source": []
  },
  {
   "cell_type": "code",
   "execution_count": null,
   "metadata": {
    "collapsed": true
   },
   "outputs": [],
   "source": []
  },
  {
   "cell_type": "code",
   "execution_count": null,
   "metadata": {
    "collapsed": true
   },
   "outputs": [],
   "source": []
  },
  {
   "cell_type": "code",
   "execution_count": null,
   "metadata": {
    "collapsed": true
   },
   "outputs": [],
   "source": []
  },
  {
   "cell_type": "code",
   "execution_count": null,
   "metadata": {
    "collapsed": true
   },
   "outputs": [],
   "source": []
  },
  {
   "cell_type": "code",
   "execution_count": null,
   "metadata": {
    "collapsed": true
   },
   "outputs": [],
   "source": []
  },
  {
   "cell_type": "code",
   "execution_count": null,
   "metadata": {
    "collapsed": true
   },
   "outputs": [],
   "source": []
  },
  {
   "cell_type": "code",
   "execution_count": null,
   "metadata": {
    "collapsed": true
   },
   "outputs": [],
   "source": []
  },
  {
   "cell_type": "code",
   "execution_count": null,
   "metadata": {
    "collapsed": true
   },
   "outputs": [],
   "source": []
  },
  {
   "cell_type": "code",
   "execution_count": null,
   "metadata": {
    "collapsed": true
   },
   "outputs": [],
   "source": []
  }
 ],
 "metadata": {
  "kernelspec": {
   "display_name": "Python 3",
   "language": "python",
   "name": "python3"
  },
  "language_info": {
   "codemirror_mode": {
    "name": "ipython",
    "version": 3
   },
   "file_extension": ".py",
   "mimetype": "text/x-python",
   "name": "python",
   "nbconvert_exporter": "python",
   "pygments_lexer": "ipython3",
   "version": "3.6.3"
  }
 },
 "nbformat": 4,
 "nbformat_minor": 2
}
